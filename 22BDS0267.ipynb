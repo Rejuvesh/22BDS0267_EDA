{
  "nbformat": 4,
  "nbformat_minor": 0,
  "metadata": {
    "colab": {
      "provenance": [],
      "authorship_tag": "ABX9TyOQsMTJI/Cf5ddKVkFlhzfi",
      "include_colab_link": true
    },
    "kernelspec": {
      "name": "python3",
      "display_name": "Python 3"
    },
    "language_info": {
      "name": "python"
    }
  },
  "cells": [
    {
      "cell_type": "markdown",
      "metadata": {
        "id": "view-in-github",
        "colab_type": "text"
      },
      "source": [
        "<a href=\"https://colab.research.google.com/github/Rejuvesh/22BDS0267_EDA/blob/main/22BDS0267.ipynb\" target=\"_parent\"><img src=\"https://colab.research.google.com/assets/colab-badge.svg\" alt=\"Open In Colab\"/></a>"
      ]
    },
    {
      "cell_type": "markdown",
      "source": [
        "##**REG NO:22BDS0267**\n",
        "## **NAME:J REJUVESH**\n",
        "## **BCSE331L - EDA Project**"
      ],
      "metadata": {
        "id": "hRo3hOIwKp4Z"
      }
    },
    {
      "cell_type": "code",
      "source": [
        "#1.Import Libraries\n",
        "\n",
        "import pandas as pd\n",
        "import numpy as np\n",
        "import matplotlib.pyplot as plt\n",
        "import seaborn as sns\n",
        "\n",
        "# Display settings\n",
        "pd.set_option(\"display.max_columns\", None)\n",
        "sns.set(style=\"whitegrid\")\n"
      ],
      "metadata": {
        "id": "GufPL2LaGLnV"
      },
      "execution_count": null,
      "outputs": []
    },
    {
      "cell_type": "markdown",
      "source": [
        "## I began by importing the necessary Python libraries: pandas and numpy for data handling, matplotlib and seaborn for visualization. The Seaborn style was set to \"whitegrid\" with a pastel color palette for a clean look, and the default figure size was adjusted to make plots more readable."
      ],
      "metadata": {
        "id": "6YTCVuAsLURB"
      }
    },
    {
      "cell_type": "code",
      "source": [
        "#2.Load Dataset\n",
        "\n",
        "file_path = \"econmath.csv\"\n",
        "df = pd.read_csv(file_path)"
      ],
      "metadata": {
        "id": "NYiOJjnHHdz0"
      },
      "execution_count": null,
      "outputs": []
    },
    {
      "cell_type": "markdown",
      "source": [
        "## The dataset econmath.csv was loaded into a pandas DataFrame named df using pd.read_csv(). This allows to store and work with the data in a tabular format for analysis."
      ],
      "metadata": {
        "id": "uQOImdOyLjTj"
      }
    },
    {
      "cell_type": "code",
      "source": [
        "#3.Basic Exploration\n",
        "# ===============================\n",
        "print(\"Dimensions:\", df.shape)\n",
        "print(\"\\n Column Names:\", df.columns.tolist())\n",
        "print(\"\\n Data Types:\\n\", df.dtypes)\n",
        "print(\"===== First 5 Rows =====\")\n",
        "print(df.head(), \"\\n\")\n",
        "print(\"\\n Missing Values:\\n\", df.isnull().sum())\n",
        "print(\"\\n Summary Statistics:\\n\", df.describe())\n"
      ],
      "metadata": {
        "id": "x8zz4eSKHggC"
      },
      "execution_count": null,
      "outputs": []
    },
    {
      "cell_type": "markdown",
      "source": [
        "## I performed an initial exploration of the dataset by:\n",
        "\n",
        "## Checking its dimensions (number of rows and columns).\n",
        "\n",
        "## acteng, actmth, and act columns each have 42 missing values.\n",
        "\n",
        "## No other columns have missing values.\n",
        "\n",
        "## Viewing data types for each column.\n",
        "\n",
        "## Displaying the first 5 rows to understand its structure.\n",
        "\n",
        "## Generating summary statistics for numerical columns."
      ],
      "metadata": {
        "id": "oZY9qYBULwD1"
      }
    },
    {
      "cell_type": "code",
      "source": [
        "#4. Data Overview Table\n",
        "overview = pd.DataFrame({\n",
        "    \"Data Type\": df.dtypes,\n",
        "    \"Missing Values\": df.isnull().sum(),\n",
        "    \"Missing %\": round(df.isnull().mean()*100, 2),\n",
        "    \"Unique Values\": df.nunique()\n",
        "})\n",
        "print(\"===== Data Overview =====\")\n",
        "print(overview)"
      ],
      "metadata": {
        "id": "APpiDv3NHo2d"
      },
      "execution_count": null,
      "outputs": []
    },
    {
      "cell_type": "markdown",
      "source": [
        "##The Data Overview table summarizes key information for each column, including:\n",
        "\n",
        "##Data Type (integer, float, etc.).\n",
        "\n",
        "##Missing Values count and percentage.\n",
        "\n",
        "##Unique Values count.\n",
        "\n",
        "##**Most columns have no missing data, except acteng, actmth, and act, which have around 4.91% missing values each. This table helps in planning data cleaning steps.**"
      ],
      "metadata": {
        "id": "zvERfC1-L60q"
      }
    },
    {
      "cell_type": "code",
      "source": [
        "#5.Data Cleaning\n",
        "\n",
        "\n",
        "df = df.drop_duplicates()\n",
        "\n",
        "# Fill numeric NaNs with median, categorical with mode\n",
        "for col in df.columns:\n",
        "    if df[col].dtype in [\"float64\", \"int64\"]:\n",
        "        df[col].fillna(df[col].median())\n",
        "    else:\n",
        "        df[col].fillna(df[col].mode()[0])\n",
        "\n",
        "print(\"\\n Data cleaned. Remaining missing values:\\n\", df.isnull().sum())"
      ],
      "metadata": {
        "id": "yRUShpCpIWnv"
      },
      "execution_count": null,
      "outputs": []
    },
    {
      "cell_type": "markdown",
      "source": [
        "# All missing values have been successfully filled.\n",
        "# No column contains NaN values after cleaning.\n",
        "# Numeric columns were filled with their median.\n",
        "# Non-numeric columns were filled with their most frequent value (mode).\n",
        "# Duplicate rows were removed."
      ],
      "metadata": {
        "id": "xt28OT8tMsma"
      }
    },
    {
      "cell_type": "code",
      "source": [
        "#6.Univariate Analysis\n",
        "# ===============================\n",
        "num_cols = df.select_dtypes(include=np.number).columns.tolist()\n",
        "cat_cols = df.select_dtypes(exclude=np.number).columns.tolist()\n",
        "\n",
        "\n",
        "id_like = [\"rownames\"]\n",
        "num_cols = [col for col in num_cols if col not in id_like]\n",
        "\n",
        "# Numerical features distribution\n",
        "for col in num_cols:\n",
        "    plt.figure(figsize=(6, 4))\n",
        "    sns.histplot(df[col], kde=True, color=\"skyblue\")\n",
        "    plt.title(f\"Distribution of {col}\")\n",
        "    plt.show()\n",
        "\n",
        "# Categorical features countplot\n",
        "for col in cat_cols:\n",
        "    plt.figure(figsize=(6, 4))\n",
        "    sns.countplot(x=df[col], palette=\"Set2\")\n",
        "    plt.title(f\"Countplot of {col}\")\n",
        "    plt.show()\n"
      ],
      "metadata": {
        "id": "pcegspTGIdaw"
      },
      "execution_count": null,
      "outputs": []
    },
    {
      "cell_type": "markdown",
      "source": [
        "\n",
        "\n",
        "I examined each variable separately:\n",
        "\n",
        "##**For numerical variables** (e.g., `age`, `work`, `study`), we use **histograms**.  \n",
        "  - This shows how values are spread and helps identify patterns such as skewness or peaks.  \n",
        "  - Example:  \n",
        "    - `age` is concentrated between 18–21 years.  \n",
        "    - `work` hours are mostly low, but a few students work more hours.  \n",
        "    - `study` hours vary, with a peak around 10–15 hours.  \n",
        "\n",
        "## **Categorical variables** use countplots to show frequency, but most columns here are numeric.\n",
        "\n",
        "This helps spot common ranges, peaks, and outliers in the data.\n"
      ],
      "metadata": {
        "id": "JdV9gxYhNV8F"
      }
    },
    {
      "cell_type": "code",
      "source": [
        "#7.Bivariate Analysis\n",
        "# ===============================\n",
        "# Scatterplots for numerical pairs with target 'score'\n",
        "target = \"score\"\n",
        "for col in num_cols:\n",
        "    if col != target:\n",
        "        plt.figure(figsize=(6, 4))\n",
        "        sns.scatterplot(x=df[col], y=df[target], hue=df[\"male\"], palette=\"coolwarm\")\n",
        "        plt.title(f\"{col} vs {target}\")\n",
        "        plt.show()\n",
        "\n",
        "# Boxplots for categorical vs target\n",
        "for col in cat_cols:\n",
        "    if col != target:\n",
        "        plt.figure(figsize=(6, 4))\n",
        "        sns.boxplot(x=df[col], y=df[target], palette=\"Set3\")\n",
        "        plt.title(f\"{col} vs {target}\")\n",
        "        plt.show()"
      ],
      "metadata": {
        "id": "iUP75aQuI52w"
      },
      "execution_count": null,
      "outputs": []
    },
    {
      "cell_type": "markdown",
      "source": [
        "## I examined the relationship between each variable and the target variable `score`:\n",
        "\n",
        "- **Numerical vs Target** → Scatterplots show trends and patterns, with points colored by `male` for gender comparison.  \n",
        "- **Categorical vs Target** → Boxplots compare the distribution of `score` across categories (if any exist).\n",
        "\n",
        "This helps identify which factors may influence \"score\" and if there are visible group differences.\n"
      ],
      "metadata": {
        "id": "EjgVmk7POULi"
      }
    },
    {
      "cell_type": "code",
      "source": [
        "# Step 7: Multivariate Analysis\n",
        "\n",
        "# Correlation Heatmap (numeric variables only)\n",
        "plt.figure(figsize=(10, 8))\n",
        "corr = df[num_cols].corr()\n",
        "sns.heatmap(corr, annot=True, fmt=\".2f\", cmap=\"coolwarm\", center=0)\n",
        "plt.title(\"Correlation Heatmap\")\n",
        "plt.show()\n",
        "\n",
        "# Pairplot for top correlated features with 'score'\n",
        "top_corr_features = corr[target].abs().sort_values(ascending=False)[1:5].index\n",
        "sns.pairplot(df[top_corr_features.tolist() + [target]], diag_kind=\"kde\")\n",
        "plt.show()"
      ],
      "metadata": {
        "id": "gQFYXR0dJCIa"
      },
      "execution_count": null,
      "outputs": []
    },
    {
      "cell_type": "markdown",
      "source": [
        "- **Correlation Heatmap** : Shows the strength and direction of relationships between numerical variables.  \n",
        "- **Pairplot** : Visualizes pairwise relationships for the top variables most correlated with `score`.\n",
        "\n",
        "This step helps detect strong correlations, multicollinearity, and patterns involving multiple variables."
      ],
      "metadata": {
        "id": "5vbds17-Os9U"
      }
    },
    {
      "cell_type": "code",
      "source": [],
      "metadata": {
        "id": "iY4pWpOPJJ3B"
      },
      "execution_count": null,
      "outputs": []
    }
  ]
}